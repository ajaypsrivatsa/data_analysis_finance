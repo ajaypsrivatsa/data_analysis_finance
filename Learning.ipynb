{
 "cells": [
  {
   "cell_type": "code",
   "execution_count": null,
   "id": "4d59f0ae",
   "metadata": {},
   "outputs": [],
   "source": [
    "import pandas as pd\n",
    "import seaborn as sns\n",
    "\n",
    "from pathlib import Path\n",
    "from tqdm.notebook import tqdm\n",
    "from sklearn.preprocessing import FunctionTransformer\n",
    "from sklearn.metrics import r2_score\n",
    "from sklearn.ensemble import RandomForestRegressor\n",
    "from matplotlib import pyplot as plt\n",
    "\n",
    "pd.set_option(\"display.max_columns\", 100)\n",
    "pd.set_option(\"display.max_rows\", 100)\n",
    "\n",
    "%load_ext autoreload\n",
    "%autoreload 2"
   ]
  },
  {
   "cell_type": "code",
   "execution_count": null,
   "id": "308477e3",
   "metadata": {},
   "outputs": [],
   "source": [
    "DATA_PATH = Path(Path.cwd(), \"data\")\n",
    "\n",
    "split_fraction = 0.7\n",
    "stock_id_col = \"PERMNO\"\n",
    "feature_cols = [\n",
    "    \"marketCapitalization\", \"momentum\", \"beta\", \"idiosyncraticVolatility\", \"bm\", \"ps\",\n",
    "    \"pcf\", \"dpr\", \"roe\", \"GProf\", \"capital_ratio\", \"invt_act\", \"debt_ebitda\", \"fcf_ocf\",\n",
    "    \"de_ratio\", \"cash_ratio\", \"at_turn\", \"rd_sale\", \"staff_sale\", \"PEG_trailing\"\n",
    "]\n",
    "target_col = \"returns\"\n",
    "cutoff_train = 1987\n",
    "cutoff_valid = 1997\n",
    "start_year = 1997\n",
    "max_year = 2021"
   ]
  },
  {
   "cell_type": "code",
   "execution_count": null,
   "id": "9717445b",
   "metadata": {},
   "outputs": [],
   "source": [
    "def impute_na(df, feature_cols, group_col, how=\"mean\"):\n",
    "    df_imp = df.copy()\n",
    "\n",
    "    if how == \"mean\":\n",
    "        for target in feature_cols:\n",
    "            df_imp[target] = df_imp.groupby(group_col)[target].transform(\n",
    "                lambda x: x.fillna(x.mean())\n",
    "            )\n",
    "    elif how == \"median\":\n",
    "        for target in feature_cols:\n",
    "            df_imp[target] = df_imp.groupby(group_col)[target].transform(\n",
    "                lambda x: x.fillna(x.median())\n",
    "            )\n",
    "    else:\n",
    "        for target in feature_cols:\n",
    "            df_imp[target] = df_imp.groupby(group_col)[target].transform(\n",
    "                lambda x: x.fillna(0)\n",
    "            )\n",
    "\n",
    "    df_imp.dropna(inplace=True)\n",
    "    return df_imp.reset_index(drop=True)\n",
    "\n",
    "\n",
    "def split_X_y(df, feature_cols, target_col):\n",
    "    X = df[feature_cols]\n",
    "    y = df[target_col]\n",
    "    return X, y"
   ]
  },
  {
   "cell_type": "code",
   "execution_count": null,
   "id": "aae697ff",
   "metadata": {},
   "outputs": [],
   "source": [
    "df_stock = pd.read_csv(DATA_PATH / \"US Stock Data.csv\", parse_dates=[1])\n",
    "imputer = FunctionTransformer(impute_na, kw_args={\"feature_cols\": feature_cols, \"group_col\": stock_id_col})\n",
    "splitter = FunctionTransformer(split_X_y, kw_args={\"feature_cols\": feature_cols, \"target_col\": target_col})"
   ]
  },
  {
   "cell_type": "code",
   "execution_count": null,
   "id": "1911ab85",
   "metadata": {},
   "outputs": [],
   "source": [
    "df_stock.head()"
   ]
  },
  {
   "cell_type": "code",
   "execution_count": null,
   "id": "8800a2a9",
   "metadata": {},
   "outputs": [],
   "source": [
    "model = RandomForestRegressor(n_estimators=100, max_depth=6, min_samples_split=100, max_features=\"sqrt\")\n",
    "val_r2 = {}\n",
    "pred_list = []\n",
    "true_list = []"
   ]
  },
  {
   "cell_type": "code",
   "execution_count": null,
   "id": "f8e90989",
   "metadata": {},
   "outputs": [],
   "source": [
    "for i in tqdm(range(cutoff_valid, max_year)):\n",
    "    df_stock[\"tag\"] = df_stock.date.map(lambda x: \"train\" if x.year<cutoff_train else (\"valid\" if x.year<cutoff_valid else \"test\"))\n",
    "    train = df_stock[df_stock[\"tag\"]==\"train\"].drop([\"tag\"], axis=1)\n",
    "    validation = df_stock[df_stock[\"tag\"]==\"valid\"].drop([\"tag\"], axis=1)\n",
    "    test = df_stock[df_stock[\"tag\"]==\"test\"].drop([\"tag\"], axis=1)\n",
    "    test_next = test[test.date.dt.year==cutoff_valid].reset_index(drop=True)\n",
    "\n",
    "    train = imputer.fit_transform(train)\n",
    "    validation = imputer.fit_transform(validation)\n",
    "    test_next = imputer.fit_transform(test_next)\n",
    "\n",
    "    X_train, y_train = splitter.fit_transform(train)\n",
    "    X_valid, y_valid = splitter.fit_transform(validation)\n",
    "    X_test_next, y_test_next = splitter.fit_transform(test_next)\n",
    "\n",
    "    model.fit(X_train, y_train)\n",
    "    val_r2[cutoff_valid] = model.score(X_test_next, y_test_next)\n",
    "    pred_list.append(list(model.predict(X_test_next)))\n",
    "    true_list.append(list(y_test_next))\n",
    "    cutoff_train += 1\n",
    "    cutoff_valid += 1"
   ]
  },
  {
   "cell_type": "code",
   "execution_count": null,
   "id": "c51a3dcb",
   "metadata": {},
   "outputs": [],
   "source": [
    "y_pred = [item for sublist in pred_list for item in sublist]\n",
    "y_true = [item for sublist in true_list for item in sublist]\n",
    "\n",
    "overall_r2 = r2_score(y_true, y_pred)\n",
    "r2_scores = pd.DataFrame.from_dict(val_r2, orient=\"index\", columns=[\"r2\"])"
   ]
  },
  {
   "cell_type": "code",
   "execution_count": null,
   "id": "648a77db",
   "metadata": {},
   "outputs": [],
   "source": [
    "importances = pd.DataFrame(columns=[\"importance\"])\n",
    "for i in range(model.feature_importances_.shape[0]):\n",
    "    importances.loc[X_train.columns[i], \"importance\"] = model.feature_importances_[i]\n",
    "\n",
    "importances.sort_values(\"importance\", inplace=True, ascending=False)"
   ]
  },
  {
   "cell_type": "code",
   "execution_count": null,
   "id": "bbcab14a",
   "metadata": {},
   "outputs": [],
   "source": [
    "fig = plt.figure(figsize=(12, 6))\n",
    "plt.xticks(rotation=90)\n",
    "plt.bar(list(importances.index), importances[\"importance\"])\n",
    "plt.show()"
   ]
  },
  {
   "cell_type": "code",
   "execution_count": null,
   "id": "c0388322",
   "metadata": {},
   "outputs": [],
   "source": [
    "sns.heatmap(X_train.corr())\n",
    "plt.show()"
   ]
  },
  {
   "cell_type": "code",
   "execution_count": null,
   "id": "d3d387bf",
   "metadata": {},
   "outputs": [],
   "source": []
  }
 ],
 "metadata": {
  "kernelspec": {
   "display_name": "Python 3 (ipykernel)",
   "language": "python",
   "name": "python3"
  },
  "language_info": {
   "codemirror_mode": {
    "name": "ipython",
    "version": 3
   },
   "file_extension": ".py",
   "mimetype": "text/x-python",
   "name": "python",
   "nbconvert_exporter": "python",
   "pygments_lexer": "ipython3",
   "version": "3.9.7"
  }
 },
 "nbformat": 4,
 "nbformat_minor": 5
}
