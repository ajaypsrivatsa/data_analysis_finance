{
 "cells": [
  {
   "cell_type": "code",
   "execution_count": 124,
   "metadata": {},
   "outputs": [
    {
     "name": "stdout",
     "output_type": "stream",
     "text": [
      "The autoreload extension is already loaded. To reload it, use:\n",
      "  %reload_ext autoreload\n"
     ]
    }
   ],
   "source": [
    "import pandas as pd\n",
    "import numpy as np\n",
    "import random\n",
    "\n",
    "from pathlib import Path\n",
    "from tqdm.notebook import tqdm\n",
    "from datetime import datetime\n",
    "from sklearn.preprocessing import FunctionTransformer\n",
    "\n",
    "from preprocessing import *\n",
    "\n",
    "%load_ext autoreload\n",
    "%autoreload 2\n",
    "\n",
    "pd.set_option(\"display.max_columns\", 100)\n",
    "pd.set_option(\"display.max_rows\", 100)"
   ]
  },
  {
   "cell_type": "code",
   "execution_count": null,
   "metadata": {},
   "outputs": [],
   "source": [
    "DATA_PATH = Path(Path.cwd(), \"data\")\n",
    "\n",
    "split_fraction = 0.7\n",
    "stock_id_col = \"PERMNO\"\n",
    "feature_cols = [\n",
    "    \"marketCapitalization\", \"momentum\", \"beta\", \"idiosyncraticVolatility\", \"bm\", \"ps\",\n",
    "    \"pcf\", \"dpr\", \"roe\", \"GProf\", \"capital_ratio\", \"invt_act\", \"debt_ebitda\", \"fcf_ocf\",\n",
    "    \"de_ratio\", \"cash_ratio\", \"at_turn\", \"rd_sale\", \"staff_sale\", \"PEG_trailing\"\n",
    "]\n",
    "target_col = \"returns\""
   ]
  },
  {
   "cell_type": "code",
   "execution_count": null,
   "metadata": {},
   "outputs": [],
   "source": [
    "df_stock = pd.read_csv(DATA_PATH / \"US Stock Data.csv\", parse_dates=[1])"
   ]
  },
  {
   "cell_type": "code",
   "execution_count": null,
   "metadata": {},
   "outputs": [],
   "source": [
    "df_stock.head()"
   ]
  },
  {
   "cell_type": "code",
   "execution_count": null,
   "metadata": {},
   "outputs": [],
   "source": [
    "stock_list = df_stock[stock_id_col].unique()\n",
    "train_stocks = random.sample(sorted(stock_list), int(stock_list.shape[0]*split_fraction))\n",
    "test_stocks = list(stock_list[~np.isin(stock_list, train_stocks)])"
   ]
  },
  {
   "cell_type": "code",
   "execution_count": null,
   "metadata": {},
   "outputs": [],
   "source": [
    "train_data = df_stock[df_stock[stock_id_col].isin(train_stocks)].reset_index(drop=True)\n",
    "test_data = df_stock[~df_stock[stock_id_col].isin(train_stocks)].reset_index(drop=True)"
   ]
  },
  {
   "cell_type": "code",
   "execution_count": 134,
   "metadata": {},
   "outputs": [],
   "source": [
    "imputer = FunctionTransformer(impute_na, kw_args={\"feature_cols\": feature_cols, \"group_col\": stock_id_col})"
   ]
  },
  {
   "cell_type": "code",
   "execution_count": null,
   "metadata": {},
   "outputs": [],
   "source": []
  }
 ],
 "metadata": {
  "interpreter": {
   "hash": "6fb323fa912c45b314a12818cc868d02f3b91e3c272fbdc23d7431635f9015f4"
  },
  "kernelspec": {
   "display_name": "Python 3.9.7 ('base')",
   "language": "python",
   "name": "python3"
  },
  "language_info": {
   "codemirror_mode": {
    "name": "ipython",
    "version": 3
   },
   "file_extension": ".py",
   "mimetype": "text/x-python",
   "name": "python",
   "nbconvert_exporter": "python",
   "pygments_lexer": "ipython3",
   "version": "3.9.7"
  },
  "orig_nbformat": 4
 },
 "nbformat": 4,
 "nbformat_minor": 2
}
